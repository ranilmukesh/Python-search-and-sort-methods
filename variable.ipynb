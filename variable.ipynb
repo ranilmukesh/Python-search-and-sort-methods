{
  "nbformat": 4,
  "nbformat_minor": 0,
  "metadata": {
    "colab": {
      "provenance": [],
      "gpuType": "T4",
      "authorship_tag": "ABX9TyNIz/QjCtToJEt9tSE6+WFB",
      "include_colab_link": true
    },
    "kernelspec": {
      "name": "python3",
      "display_name": "Python 3"
    },
    "language_info": {
      "name": "python"
    },
    "accelerator": "GPU",
    "gpuClass": "standard"
  },
  "cells": [
    {
      "cell_type": "markdown",
      "metadata": {
        "id": "view-in-github",
        "colab_type": "text"
      },
      "source": [
        "<a href=\"https://colab.research.google.com/github/ranilmukesh/Python-search-and-sort-methods/blob/main/variable.ipynb\" target=\"_parent\"><img src=\"https://colab.research.google.com/assets/colab-badge.svg\" alt=\"Open In Colab\"/></a>"
      ]
    },
    {
      "cell_type": "code",
      "execution_count": 1,
      "metadata": {
        "id": "FQifiZu7Y00x"
      },
      "outputs": [],
      "source": [
        "x = 900"
      ]
    },
    {
      "cell_type": "code",
      "source": [
        "c = 900\n"
      ],
      "metadata": {
        "id": "SiKQgjKBY48w"
      },
      "execution_count": 3,
      "outputs": []
    },
    {
      "cell_type": "code",
      "source": [],
      "metadata": {
        "id": "nCLmM31LZl1Q"
      },
      "execution_count": null,
      "outputs": []
    }
  ]
}